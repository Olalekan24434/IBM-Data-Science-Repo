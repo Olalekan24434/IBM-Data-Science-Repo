{
 "cells": [
  {
   "cell_type": "markdown",
   "id": "bde433cd",
   "metadata": {},
   "source": [
    "# Data Science Tools and Ecosystem"
   ]
  },
  {
   "cell_type": "markdown",
   "id": "b5da312e",
   "metadata": {},
   "source": [
    "## In this notebook, Data Science Tools and Ecosystem are summarized."
   ]
  },
  {
   "cell_type": "markdown",
   "id": "570c40c0",
   "metadata": {},
   "source": [
    "### Some of the popular languages that Data Scientists use are:"
   ]
  },
  {
   "cell_type": "markdown",
   "id": "80b83ec3",
   "metadata": {},
   "source": [
    "### Python\n",
    "### R\n",
    "### SQL\n",
    "### Scala\n",
    "### Java \n",
    "### C++\n",
    "### Go"
   ]
  },
  {
   "cell_type": "markdown",
   "id": "033bbbc4",
   "metadata": {},
   "source": [
    "## Some of the commonly used libraries used by Data Scientists include:"
   ]
  },
  {
   "cell_type": "markdown",
   "id": "3357bef1",
   "metadata": {},
   "source": [
    "### Numpy\n",
    "### Pandas\n",
    "### Scikit-learn\n",
    "### Seaborn\n",
    "### Plotly\n",
    "### Keras \n",
    "### Matplotlib\n",
    "### Tensorflow"
   ]
  },
  {
   "cell_type": "markdown",
   "id": "c24919ba",
   "metadata": {},
   "source": [
    "# Data Science Tools"
   ]
  },
  {
   "cell_type": "markdown",
   "id": "4df6995b",
   "metadata": {},
   "source": [
    "\n",
    "\n",
    "(\"\"\"\n",
    "| **Data Science Tools** |\n",
    "|------------------------|\n",
    "| Jupyter Notebook       |\n",
    "| RStudio                |\n",
    "| Anaconda               |\n",
    "| Apache Zeppelin        |\n",
    "\"\"\")\n"
   ]
  },
  {
   "cell_type": "markdown",
   "id": "067519bc",
   "metadata": {},
   "source": [
    "# Introducing arithmetic expression examples\n",
    "\n",
    "### Below are a few examples of evaluating arithmetic expressions in Python.\n"
   ]
  },
  {
   "cell_type": "code",
   "execution_count": 6,
   "id": "8560dd7f",
   "metadata": {},
   "outputs": [
    {
     "data": {
      "text/plain": [
       "17"
      ]
     },
     "execution_count": 6,
     "metadata": {},
     "output_type": "execute_result"
    }
   ],
   "source": [
    "#This a simple arithmetic expression to mutiply then add integers\n",
    "(3*4)+5"
   ]
  },
  {
   "cell_type": "code",
   "execution_count": 7,
   "id": "9c712213",
   "metadata": {},
   "outputs": [
    {
     "data": {
      "text/plain": [
       "3.3333333333333335"
      ]
     },
     "execution_count": 7,
     "metadata": {},
     "output_type": "execute_result"
    }
   ],
   "source": [
    "#This will convert 200 minutes to hours by diving by 60\n",
    "200/60"
   ]
  },
  {
   "cell_type": "markdown",
   "id": "6419da6b",
   "metadata": {},
   "source": [
    "## Author\n",
    "'Roqeeb Olalekan Akanbi'"
   ]
  },
  {
   "cell_type": "code",
   "execution_count": null,
   "id": "11b614f8",
   "metadata": {},
   "outputs": [],
   "source": []
  },
  {
   "cell_type": "markdown",
   "id": "a227fffc",
   "metadata": {},
   "source": [
    "# Objectives:\n",
    "* List popular languages for Data Science\n",
    "* Data Science Tools\n",
    "* Arithmetic\n",
    "* Division\n",
    "* Markdown cell"
   ]
  }
 ],
 "metadata": {
  "kernelspec": {
   "display_name": "Python 3 (ipykernel)",
   "language": "python",
   "name": "python3"
  },
  "language_info": {
   "codemirror_mode": {
    "name": "ipython",
    "version": 3
   },
   "file_extension": ".py",
   "mimetype": "text/x-python",
   "name": "python",
   "nbconvert_exporter": "python",
   "pygments_lexer": "ipython3",
   "version": "3.11.5"
  }
 },
 "nbformat": 4,
 "nbformat_minor": 5
}
