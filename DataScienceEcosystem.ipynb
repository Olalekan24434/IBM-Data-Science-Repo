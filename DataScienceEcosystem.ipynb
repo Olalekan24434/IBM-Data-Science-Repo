{
 "cells": [
  {
   "cell_type": "markdown",
   "id": "2e41f3ea",
   "metadata": {},
   "source": [
    "# Data Science Tools and Ecosystem"
   ]
  },
  {
   "cell_type": "markdown",
   "id": "3966abac",
   "metadata": {},
   "source": [
    "## In this notebook, Data Science Tools and Ecosystem are summarized."
   ]
  },
  {
   "cell_type": "markdown",
   "id": "3b180e51",
   "metadata": {},
   "source": [
    "### Some of the popular languages that Data Scientists use are:"
   ]
  },
  {
   "cell_type": "code",
   "execution_count": 1,
   "id": "c891c453",
   "metadata": {},
   "outputs": [],
   "source": [
    "dslanguages = [\"Python\", \"R\", \"SQL\"]"
   ]
  },
  {
   "cell_type": "markdown",
   "id": "0d47c7d7",
   "metadata": {},
   "source": [
    "## Some of the commonly used libraries used by Data Scientists include:"
   ]
  },
  {
   "cell_type": "code",
   "execution_count": 2,
   "id": "2ab8eae0",
   "metadata": {},
   "outputs": [],
   "source": [
    "dslibraries = [\"Numpy\", \"Pandas\", \"Scikit-learn\"]"
   ]
  },
  {
   "cell_type": "markdown",
   "id": "365e0773",
   "metadata": {},
   "source": [
    "# Data Science Tools"
   ]
  },
  {
   "cell_type": "markdown",
   "id": "c4b2477f",
   "metadata": {},
   "source": [
    "\n",
    "\n",
    "(\"\"\"\n",
    "| **Data Science Tools** |\n",
    "|------------------------|\n",
    "| Jupyter Notebook       |\n",
    "| RStudio                |\n",
    "| Apache Zeppelin        |\n",
    "\"\"\")\n"
   ]
  },
  {
   "cell_type": "markdown",
   "id": "3d174ca3",
   "metadata": {},
   "source": [
    "# Introducing arithmetic expression examples\n",
    "\n",
    "### Below are a few examples of evaluating arithmetic expressions in Python.\n"
   ]
  },
  {
   "cell_type": "markdown",
   "id": "a0fc4874",
   "metadata": {},
   "source": [
    "# Objectives:\n",
    "* List popular languages for Data Science\n",
    "* Data Science Tools\n",
    "* Arithmetic\n",
    "* Division\n",
    "* Markdown cell"
   ]
  },
  {
   "cell_type": "code",
   "execution_count": 6,
   "id": "44a7fa5c",
   "metadata": {},
   "outputs": [
    {
     "data": {
      "text/plain": [
       "17"
      ]
     },
     "execution_count": 6,
     "metadata": {},
     "output_type": "execute_result"
    }
   ],
   "source": [
    "#This a simple arithmetic expression to mutiply then add integers\n",
    "(3*4)+5"
   ]
  },
  {
   "cell_type": "code",
   "execution_count": 7,
   "id": "de55a9b4",
   "metadata": {},
   "outputs": [
    {
     "data": {
      "text/plain": [
       "3.3333333333333335"
      ]
     },
     "execution_count": 7,
     "metadata": {},
     "output_type": "execute_result"
    }
   ],
   "source": [
    "#This will convert 200 minutes to hours by diving by 60\n",
    "200/60"
   ]
  },
  {
   "cell_type": "markdown",
   "id": "48b01818",
   "metadata": {},
   "source": [
    "## Author\n",
    "'Roqeeb Olalekan Akanbi'"
   ]
  },
  {
   "cell_type": "code",
   "execution_count": null,
   "id": "e8080bc3",
   "metadata": {},
   "outputs": [],
   "source": []
  }
 ],
 "metadata": {
  "kernelspec": {
   "display_name": "Python 3 (ipykernel)",
   "language": "python",
   "name": "python3"
  },
  "language_info": {
   "codemirror_mode": {
    "name": "ipython",
    "version": 3
   },
   "file_extension": ".py",
   "mimetype": "text/x-python",
   "name": "python",
   "nbconvert_exporter": "python",
   "pygments_lexer": "ipython3",
   "version": "3.11.5"
  }
 },
 "nbformat": 4,
 "nbformat_minor": 5
}
